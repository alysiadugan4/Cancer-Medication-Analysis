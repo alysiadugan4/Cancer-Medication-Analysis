{
 "cells": [
  {
   "cell_type": "markdown",
   "metadata": {},
   "source": [
    "## Observations and Insights "
   ]
  },
  {
   "cell_type": "code",
   "execution_count": null,
   "metadata": {},
   "outputs": [],
   "source": [
    "# This was a well constructed study with an even distribution of male and female test subjects and an even amount of test subjects per drug\n",
    "# While the assignment chose to focus on Capomulin, it does seem like Ramicane may have been the more effective drug based on the results of the box plot\n",
    "# I tested the line plot on multiple Mouse IDs and found that all of them have a slight uptick in tumor volume at the end of study period. I'd be curious to see a longer study and the effectiveness of the drugs long-term.\n"
   ]
  },
  {
   "cell_type": "markdown",
   "metadata": {},
   "source": [
    "## Data Cleanup"
   ]
  },
  {
   "cell_type": "code",
   "execution_count": 2,
   "metadata": {},
   "outputs": [
    {
     "data": {
      "text/html": [
       "<div>\n",
       "<style scoped>\n",
       "    .dataframe tbody tr th:only-of-type {\n",
       "        vertical-align: middle;\n",
       "    }\n",
       "\n",
       "    .dataframe tbody tr th {\n",
       "        vertical-align: top;\n",
       "    }\n",
       "\n",
       "    .dataframe thead th {\n",
       "        text-align: right;\n",
       "    }\n",
       "</style>\n",
       "<table border=\"1\" class=\"dataframe\">\n",
       "  <thead>\n",
       "    <tr style=\"text-align: right;\">\n",
       "      <th></th>\n",
       "      <th>Mouse ID</th>\n",
       "      <th>Timepoint</th>\n",
       "      <th>Tumor Volume (mm3)</th>\n",
       "      <th>Metastatic Sites</th>\n",
       "      <th>Drug Regimen</th>\n",
       "      <th>Sex</th>\n",
       "      <th>Age_months</th>\n",
       "      <th>Weight (g)</th>\n",
       "    </tr>\n",
       "  </thead>\n",
       "  <tbody>\n",
       "    <tr>\n",
       "      <th>0</th>\n",
       "      <td>b128</td>\n",
       "      <td>0</td>\n",
       "      <td>45.000000</td>\n",
       "      <td>0</td>\n",
       "      <td>Capomulin</td>\n",
       "      <td>Female</td>\n",
       "      <td>9</td>\n",
       "      <td>22</td>\n",
       "    </tr>\n",
       "    <tr>\n",
       "      <th>1</th>\n",
       "      <td>b128</td>\n",
       "      <td>5</td>\n",
       "      <td>45.651331</td>\n",
       "      <td>0</td>\n",
       "      <td>Capomulin</td>\n",
       "      <td>Female</td>\n",
       "      <td>9</td>\n",
       "      <td>22</td>\n",
       "    </tr>\n",
       "    <tr>\n",
       "      <th>2</th>\n",
       "      <td>b128</td>\n",
       "      <td>10</td>\n",
       "      <td>43.270852</td>\n",
       "      <td>0</td>\n",
       "      <td>Capomulin</td>\n",
       "      <td>Female</td>\n",
       "      <td>9</td>\n",
       "      <td>22</td>\n",
       "    </tr>\n",
       "    <tr>\n",
       "      <th>3</th>\n",
       "      <td>b128</td>\n",
       "      <td>15</td>\n",
       "      <td>43.784893</td>\n",
       "      <td>0</td>\n",
       "      <td>Capomulin</td>\n",
       "      <td>Female</td>\n",
       "      <td>9</td>\n",
       "      <td>22</td>\n",
       "    </tr>\n",
       "    <tr>\n",
       "      <th>4</th>\n",
       "      <td>b128</td>\n",
       "      <td>20</td>\n",
       "      <td>42.731552</td>\n",
       "      <td>0</td>\n",
       "      <td>Capomulin</td>\n",
       "      <td>Female</td>\n",
       "      <td>9</td>\n",
       "      <td>22</td>\n",
       "    </tr>\n",
       "  </tbody>\n",
       "</table>\n",
       "</div>"
      ],
      "text/plain": [
       "  Mouse ID  Timepoint  Tumor Volume (mm3)  Metastatic Sites Drug Regimen  \\\n",
       "0     b128          0           45.000000                 0    Capomulin   \n",
       "1     b128          5           45.651331                 0    Capomulin   \n",
       "2     b128         10           43.270852                 0    Capomulin   \n",
       "3     b128         15           43.784893                 0    Capomulin   \n",
       "4     b128         20           42.731552                 0    Capomulin   \n",
       "\n",
       "      Sex  Age_months  Weight (g)  \n",
       "0  Female           9          22  \n",
       "1  Female           9          22  \n",
       "2  Female           9          22  \n",
       "3  Female           9          22  \n",
       "4  Female           9          22  "
      ]
     },
     "execution_count": 2,
     "metadata": {},
     "output_type": "execute_result"
    }
   ],
   "source": [
    "# Dependencies and Setup\n",
    "import matplotlib.pyplot as plt\n",
    "import pandas as pd\n",
    "import scipy.stats as st\n",
    "import numpy as np\n",
    "\n",
    "# Study data files\n",
    "mouse_metadata_path = \"data/Mouse_metadata.csv\"\n",
    "study_results_path = \"data/Study_results.csv\"\n",
    "\n",
    "# Read the mouse data and the study results\n",
    "mouse_metadata = pd.read_csv(mouse_metadata_path)\n",
    "study_results = pd.read_csv(study_results_path)\n",
    "\n",
    "# Combine the data into a single dataset - use outer merge with study results first\n",
    "study_merge = pd.merge(study_results,mouse_metadata,how = \"outer\",on = \"Mouse ID\")\n",
    "\n",
    "# Display the data table for preview\n",
    "study_merge.head()"
   ]
  },
  {
   "cell_type": "code",
   "execution_count": 3,
   "metadata": {},
   "outputs": [
    {
     "name": "stdout",
     "output_type": "stream",
     "text": [
      "There are 249 mice in the study\n"
     ]
    },
    {
     "data": {
      "text/plain": [
       "1893"
      ]
     },
     "execution_count": 3,
     "metadata": {},
     "output_type": "execute_result"
    }
   ],
   "source": [
    "# Checking the number of mice. (unique)\n",
    "unique_mice = len(study_merge[\"Mouse ID\"].unique())\n",
    "print(f\"There are {unique_mice} mice in the study\")\n",
    "\n",
    "#Control figure for total rows before removing duplicates\n",
    "study_merge[\"Mouse ID\"].count()\n"
   ]
  },
  {
   "cell_type": "code",
   "execution_count": 4,
   "metadata": {},
   "outputs": [
    {
     "name": "stdout",
     "output_type": "stream",
     "text": [
      "    Mouse ID  Timepoint  Tumor Volume (mm3) Drug Regimen\n",
      "860     g989          0           45.000000     Propriva\n",
      "861     g989          0           45.000000     Propriva\n",
      "862     g989          5           48.786801     Propriva\n",
      "863     g989          5           47.570392     Propriva\n",
      "864     g989         10           51.745156     Propriva\n",
      "865     g989         10           49.880528     Propriva\n",
      "866     g989         15           51.325852     Propriva\n",
      "867     g989         15           53.442020     Propriva\n",
      "868     g989         20           55.326122     Propriva\n",
      "869     g989         20           54.657650     Propriva\n"
     ]
    }
   ],
   "source": [
    "# Getting the duplicate mice by ID number that shows up for Mouse ID and Timepoint. \n",
    "study_merge.sort_values(\"Mouse ID\")\n",
    "\n",
    "duplicate_list = study_merge[study_merge.duplicated([\"Mouse ID\", \"Timepoint\"], keep = False)]\n",
    "\n",
    "print(duplicate_list[[\"Mouse ID\", \"Timepoint\", \"Tumor Volume (mm3)\",\"Drug Regimen\"]])\n"
   ]
  },
  {
   "cell_type": "code",
   "execution_count": 6,
   "metadata": {},
   "outputs": [
    {
     "data": {
      "text/html": [
       "<div>\n",
       "<style scoped>\n",
       "    .dataframe tbody tr th:only-of-type {\n",
       "        vertical-align: middle;\n",
       "    }\n",
       "\n",
       "    .dataframe tbody tr th {\n",
       "        vertical-align: top;\n",
       "    }\n",
       "\n",
       "    .dataframe thead th {\n",
       "        text-align: right;\n",
       "    }\n",
       "</style>\n",
       "<table border=\"1\" class=\"dataframe\">\n",
       "  <thead>\n",
       "    <tr style=\"text-align: right;\">\n",
       "      <th></th>\n",
       "      <th>Mouse ID</th>\n",
       "      <th>Timepoint</th>\n",
       "      <th>Tumor Volume (mm3)</th>\n",
       "      <th>Metastatic Sites</th>\n",
       "      <th>Drug Regimen</th>\n",
       "      <th>Sex</th>\n",
       "      <th>Age_months</th>\n",
       "      <th>Weight (g)</th>\n",
       "    </tr>\n",
       "  </thead>\n",
       "  <tbody>\n",
       "    <tr>\n",
       "      <th>0</th>\n",
       "      <td>b128</td>\n",
       "      <td>0</td>\n",
       "      <td>45.000000</td>\n",
       "      <td>0</td>\n",
       "      <td>Capomulin</td>\n",
       "      <td>Female</td>\n",
       "      <td>9</td>\n",
       "      <td>22</td>\n",
       "    </tr>\n",
       "    <tr>\n",
       "      <th>1</th>\n",
       "      <td>b128</td>\n",
       "      <td>5</td>\n",
       "      <td>45.651331</td>\n",
       "      <td>0</td>\n",
       "      <td>Capomulin</td>\n",
       "      <td>Female</td>\n",
       "      <td>9</td>\n",
       "      <td>22</td>\n",
       "    </tr>\n",
       "    <tr>\n",
       "      <th>2</th>\n",
       "      <td>b128</td>\n",
       "      <td>10</td>\n",
       "      <td>43.270852</td>\n",
       "      <td>0</td>\n",
       "      <td>Capomulin</td>\n",
       "      <td>Female</td>\n",
       "      <td>9</td>\n",
       "      <td>22</td>\n",
       "    </tr>\n",
       "    <tr>\n",
       "      <th>3</th>\n",
       "      <td>b128</td>\n",
       "      <td>15</td>\n",
       "      <td>43.784893</td>\n",
       "      <td>0</td>\n",
       "      <td>Capomulin</td>\n",
       "      <td>Female</td>\n",
       "      <td>9</td>\n",
       "      <td>22</td>\n",
       "    </tr>\n",
       "    <tr>\n",
       "      <th>4</th>\n",
       "      <td>b128</td>\n",
       "      <td>20</td>\n",
       "      <td>42.731552</td>\n",
       "      <td>0</td>\n",
       "      <td>Capomulin</td>\n",
       "      <td>Female</td>\n",
       "      <td>9</td>\n",
       "      <td>22</td>\n",
       "    </tr>\n",
       "    <tr>\n",
       "      <th>...</th>\n",
       "      <td>...</td>\n",
       "      <td>...</td>\n",
       "      <td>...</td>\n",
       "      <td>...</td>\n",
       "      <td>...</td>\n",
       "      <td>...</td>\n",
       "      <td>...</td>\n",
       "      <td>...</td>\n",
       "    </tr>\n",
       "    <tr>\n",
       "      <th>1888</th>\n",
       "      <td>m601</td>\n",
       "      <td>25</td>\n",
       "      <td>33.118756</td>\n",
       "      <td>1</td>\n",
       "      <td>Capomulin</td>\n",
       "      <td>Male</td>\n",
       "      <td>22</td>\n",
       "      <td>17</td>\n",
       "    </tr>\n",
       "    <tr>\n",
       "      <th>1889</th>\n",
       "      <td>m601</td>\n",
       "      <td>30</td>\n",
       "      <td>31.758275</td>\n",
       "      <td>1</td>\n",
       "      <td>Capomulin</td>\n",
       "      <td>Male</td>\n",
       "      <td>22</td>\n",
       "      <td>17</td>\n",
       "    </tr>\n",
       "    <tr>\n",
       "      <th>1890</th>\n",
       "      <td>m601</td>\n",
       "      <td>35</td>\n",
       "      <td>30.834357</td>\n",
       "      <td>1</td>\n",
       "      <td>Capomulin</td>\n",
       "      <td>Male</td>\n",
       "      <td>22</td>\n",
       "      <td>17</td>\n",
       "    </tr>\n",
       "    <tr>\n",
       "      <th>1891</th>\n",
       "      <td>m601</td>\n",
       "      <td>40</td>\n",
       "      <td>31.378045</td>\n",
       "      <td>1</td>\n",
       "      <td>Capomulin</td>\n",
       "      <td>Male</td>\n",
       "      <td>22</td>\n",
       "      <td>17</td>\n",
       "    </tr>\n",
       "    <tr>\n",
       "      <th>1892</th>\n",
       "      <td>m601</td>\n",
       "      <td>45</td>\n",
       "      <td>28.430964</td>\n",
       "      <td>1</td>\n",
       "      <td>Capomulin</td>\n",
       "      <td>Male</td>\n",
       "      <td>22</td>\n",
       "      <td>17</td>\n",
       "    </tr>\n",
       "  </tbody>\n",
       "</table>\n",
       "<p>1888 rows × 8 columns</p>\n",
       "</div>"
      ],
      "text/plain": [
       "     Mouse ID  Timepoint  Tumor Volume (mm3)  Metastatic Sites Drug Regimen  \\\n",
       "0        b128          0           45.000000                 0    Capomulin   \n",
       "1        b128          5           45.651331                 0    Capomulin   \n",
       "2        b128         10           43.270852                 0    Capomulin   \n",
       "3        b128         15           43.784893                 0    Capomulin   \n",
       "4        b128         20           42.731552                 0    Capomulin   \n",
       "...       ...        ...                 ...               ...          ...   \n",
       "1888     m601         25           33.118756                 1    Capomulin   \n",
       "1889     m601         30           31.758275                 1    Capomulin   \n",
       "1890     m601         35           30.834357                 1    Capomulin   \n",
       "1891     m601         40           31.378045                 1    Capomulin   \n",
       "1892     m601         45           28.430964                 1    Capomulin   \n",
       "\n",
       "         Sex  Age_months  Weight (g)  \n",
       "0     Female           9          22  \n",
       "1     Female           9          22  \n",
       "2     Female           9          22  \n",
       "3     Female           9          22  \n",
       "4     Female           9          22  \n",
       "...      ...         ...         ...  \n",
       "1888    Male          22          17  \n",
       "1889    Male          22          17  \n",
       "1890    Male          22          17  \n",
       "1891    Male          22          17  \n",
       "1892    Male          22          17  \n",
       "\n",
       "[1888 rows x 8 columns]"
      ]
     },
     "execution_count": 6,
     "metadata": {},
     "output_type": "execute_result"
    }
   ],
   "source": [
    "# Create a clean DataFrame by dropping the duplicate mouse by its ID.\n",
    "unique_data = study_merge.drop_duplicates(subset = (\"Mouse ID\", \"Timepoint\"), keep = \"last\")\n",
    "\n",
    "unique_data"
   ]
  },
  {
   "cell_type": "code",
   "execution_count": 7,
   "metadata": {},
   "outputs": [
    {
     "name": "stdout",
     "output_type": "stream",
     "text": [
      "There are 249 mice in the study\n"
     ]
    },
    {
     "data": {
      "text/plain": [
       "1888"
      ]
     },
     "execution_count": 7,
     "metadata": {},
     "output_type": "execute_result"
    }
   ],
   "source": [
    "# Checking the number of mice in the clean DataFrame.\n",
    "unique_mice_check = len(unique_data[\"Mouse ID\"].unique())\n",
    "\n",
    "print(f\"There are {unique_mice_check} mice in the study\")\n",
    "\n",
    "#Control figure for total rows after removing duplicates\n",
    "unique_data[\"Mouse ID\"].count()"
   ]
  },
  {
   "cell_type": "markdown",
   "metadata": {},
   "source": [
    "## Summary Statistics"
   ]
  },
  {
   "cell_type": "code",
   "execution_count": 8,
   "metadata": {},
   "outputs": [
    {
     "data": {
      "text/html": [
       "<div>\n",
       "<style scoped>\n",
       "    .dataframe tbody tr th:only-of-type {\n",
       "        vertical-align: middle;\n",
       "    }\n",
       "\n",
       "    .dataframe tbody tr th {\n",
       "        vertical-align: top;\n",
       "    }\n",
       "\n",
       "    .dataframe thead th {\n",
       "        text-align: right;\n",
       "    }\n",
       "</style>\n",
       "<table border=\"1\" class=\"dataframe\">\n",
       "  <thead>\n",
       "    <tr style=\"text-align: right;\">\n",
       "      <th></th>\n",
       "      <th>Average</th>\n",
       "      <th>Median</th>\n",
       "      <th>Variance</th>\n",
       "      <th>Std. Deviation</th>\n",
       "      <th>Std. Error</th>\n",
       "    </tr>\n",
       "    <tr>\n",
       "      <th>Drug Regimen</th>\n",
       "      <th></th>\n",
       "      <th></th>\n",
       "      <th></th>\n",
       "      <th></th>\n",
       "      <th></th>\n",
       "    </tr>\n",
       "  </thead>\n",
       "  <tbody>\n",
       "    <tr>\n",
       "      <th>Capomulin</th>\n",
       "      <td>40.68</td>\n",
       "      <td>41.56</td>\n",
       "      <td>24.95</td>\n",
       "      <td>4.99</td>\n",
       "      <td>0.33</td>\n",
       "    </tr>\n",
       "    <tr>\n",
       "      <th>Ceftamin</th>\n",
       "      <td>52.59</td>\n",
       "      <td>51.78</td>\n",
       "      <td>39.29</td>\n",
       "      <td>6.27</td>\n",
       "      <td>0.47</td>\n",
       "    </tr>\n",
       "    <tr>\n",
       "      <th>Infubinol</th>\n",
       "      <td>52.88</td>\n",
       "      <td>51.82</td>\n",
       "      <td>43.13</td>\n",
       "      <td>6.57</td>\n",
       "      <td>0.49</td>\n",
       "    </tr>\n",
       "    <tr>\n",
       "      <th>Ketapril</th>\n",
       "      <td>55.24</td>\n",
       "      <td>53.70</td>\n",
       "      <td>68.55</td>\n",
       "      <td>8.28</td>\n",
       "      <td>0.60</td>\n",
       "    </tr>\n",
       "    <tr>\n",
       "      <th>Naftisol</th>\n",
       "      <td>54.33</td>\n",
       "      <td>52.51</td>\n",
       "      <td>66.17</td>\n",
       "      <td>8.13</td>\n",
       "      <td>0.60</td>\n",
       "    </tr>\n",
       "    <tr>\n",
       "      <th>Placebo</th>\n",
       "      <td>54.03</td>\n",
       "      <td>52.29</td>\n",
       "      <td>61.17</td>\n",
       "      <td>7.82</td>\n",
       "      <td>0.58</td>\n",
       "    </tr>\n",
       "    <tr>\n",
       "      <th>Propriva</th>\n",
       "      <td>52.38</td>\n",
       "      <td>50.78</td>\n",
       "      <td>43.22</td>\n",
       "      <td>6.57</td>\n",
       "      <td>0.53</td>\n",
       "    </tr>\n",
       "    <tr>\n",
       "      <th>Ramicane</th>\n",
       "      <td>40.22</td>\n",
       "      <td>40.67</td>\n",
       "      <td>23.49</td>\n",
       "      <td>4.85</td>\n",
       "      <td>0.32</td>\n",
       "    </tr>\n",
       "    <tr>\n",
       "      <th>Stelasyn</th>\n",
       "      <td>54.23</td>\n",
       "      <td>52.43</td>\n",
       "      <td>59.45</td>\n",
       "      <td>7.71</td>\n",
       "      <td>0.57</td>\n",
       "    </tr>\n",
       "    <tr>\n",
       "      <th>Zoniferol</th>\n",
       "      <td>53.24</td>\n",
       "      <td>51.82</td>\n",
       "      <td>48.53</td>\n",
       "      <td>6.97</td>\n",
       "      <td>0.52</td>\n",
       "    </tr>\n",
       "  </tbody>\n",
       "</table>\n",
       "</div>"
      ],
      "text/plain": [
       "              Average  Median  Variance  Std. Deviation  Std. Error\n",
       "Drug Regimen                                                       \n",
       "Capomulin       40.68   41.56     24.95            4.99        0.33\n",
       "Ceftamin        52.59   51.78     39.29            6.27        0.47\n",
       "Infubinol       52.88   51.82     43.13            6.57        0.49\n",
       "Ketapril        55.24   53.70     68.55            8.28        0.60\n",
       "Naftisol        54.33   52.51     66.17            8.13        0.60\n",
       "Placebo         54.03   52.29     61.17            7.82        0.58\n",
       "Propriva        52.38   50.78     43.22            6.57        0.53\n",
       "Ramicane        40.22   40.67     23.49            4.85        0.32\n",
       "Stelasyn        54.23   52.43     59.45            7.71        0.57\n",
       "Zoniferol       53.24   51.82     48.53            6.97        0.52"
      ]
     },
     "execution_count": 8,
     "metadata": {},
     "output_type": "execute_result"
    }
   ],
   "source": [
    "# Generate a summary statistics table of mean, median, variance, standard deviation, and SEM of the tumor volume for each regimen\n",
    "\n",
    "# Use groupby and summary statistical methods to calculate the following properties of each drug regimen: \n",
    "# mean, median, variance, standard deviation, and SEM of the tumor volume. \n",
    "# Assemble the resulting series into a single summary dataframe.\n",
    "\n",
    "regimen_group = unique_data.groupby(\"Drug Regimen\")\n",
    "\n",
    "tumor_avg = round(regimen_group[\"Tumor Volume (mm3)\"].mean(),2)\n",
    "tumor_med = round(regimen_group[\"Tumor Volume (mm3)\"].median(),2)\n",
    "tumor_var = round(regimen_group[\"Tumor Volume (mm3)\"].var(),2)\n",
    "tumor_std = round(regimen_group[\"Tumor Volume (mm3)\"].std(),2)\n",
    "tumor_sem = round(regimen_group[\"Tumor Volume (mm3)\"].sem(),2)\n",
    "\n",
    "regimen_summary = pd.DataFrame({\"Average\":tumor_avg,\"Median\":tumor_med,\"Variance\":tumor_var,\"Std. Deviation\":tumor_std,\n",
    "                               \"Std. Error\":tumor_sem})\n",
    "regimen_summary"
   ]
  },
  {
   "cell_type": "code",
   "execution_count": 9,
   "metadata": {},
   "outputs": [
    {
     "data": {
      "text/html": [
       "<div>\n",
       "<style scoped>\n",
       "    .dataframe tbody tr th:only-of-type {\n",
       "        vertical-align: middle;\n",
       "    }\n",
       "\n",
       "    .dataframe tbody tr th {\n",
       "        vertical-align: top;\n",
       "    }\n",
       "\n",
       "    .dataframe thead th {\n",
       "        text-align: right;\n",
       "    }\n",
       "</style>\n",
       "<table border=\"1\" class=\"dataframe\">\n",
       "  <thead>\n",
       "    <tr style=\"text-align: right;\">\n",
       "      <th></th>\n",
       "      <th>count</th>\n",
       "      <th>mean</th>\n",
       "      <th>std</th>\n",
       "      <th>min</th>\n",
       "      <th>25%</th>\n",
       "      <th>50%</th>\n",
       "      <th>75%</th>\n",
       "      <th>max</th>\n",
       "    </tr>\n",
       "    <tr>\n",
       "      <th>Drug Regimen</th>\n",
       "      <th></th>\n",
       "      <th></th>\n",
       "      <th></th>\n",
       "      <th></th>\n",
       "      <th></th>\n",
       "      <th></th>\n",
       "      <th></th>\n",
       "      <th></th>\n",
       "    </tr>\n",
       "  </thead>\n",
       "  <tbody>\n",
       "    <tr>\n",
       "      <th>Capomulin</th>\n",
       "      <td>230.0</td>\n",
       "      <td>40.68</td>\n",
       "      <td>4.99</td>\n",
       "      <td>23.34</td>\n",
       "      <td>37.69</td>\n",
       "      <td>41.56</td>\n",
       "      <td>45.00</td>\n",
       "      <td>48.16</td>\n",
       "    </tr>\n",
       "    <tr>\n",
       "      <th>Ceftamin</th>\n",
       "      <td>178.0</td>\n",
       "      <td>52.59</td>\n",
       "      <td>6.27</td>\n",
       "      <td>45.00</td>\n",
       "      <td>47.21</td>\n",
       "      <td>51.78</td>\n",
       "      <td>56.80</td>\n",
       "      <td>68.92</td>\n",
       "    </tr>\n",
       "    <tr>\n",
       "      <th>Infubinol</th>\n",
       "      <td>178.0</td>\n",
       "      <td>52.88</td>\n",
       "      <td>6.57</td>\n",
       "      <td>36.32</td>\n",
       "      <td>47.31</td>\n",
       "      <td>51.82</td>\n",
       "      <td>57.31</td>\n",
       "      <td>72.23</td>\n",
       "    </tr>\n",
       "    <tr>\n",
       "      <th>Ketapril</th>\n",
       "      <td>188.0</td>\n",
       "      <td>55.24</td>\n",
       "      <td>8.28</td>\n",
       "      <td>45.00</td>\n",
       "      <td>48.23</td>\n",
       "      <td>53.70</td>\n",
       "      <td>60.87</td>\n",
       "      <td>78.57</td>\n",
       "    </tr>\n",
       "    <tr>\n",
       "      <th>Naftisol</th>\n",
       "      <td>186.0</td>\n",
       "      <td>54.33</td>\n",
       "      <td>8.13</td>\n",
       "      <td>45.00</td>\n",
       "      <td>47.29</td>\n",
       "      <td>52.51</td>\n",
       "      <td>59.96</td>\n",
       "      <td>76.67</td>\n",
       "    </tr>\n",
       "    <tr>\n",
       "      <th>Placebo</th>\n",
       "      <td>181.0</td>\n",
       "      <td>54.03</td>\n",
       "      <td>7.82</td>\n",
       "      <td>45.00</td>\n",
       "      <td>47.46</td>\n",
       "      <td>52.29</td>\n",
       "      <td>59.92</td>\n",
       "      <td>73.21</td>\n",
       "    </tr>\n",
       "    <tr>\n",
       "      <th>Propriva</th>\n",
       "      <td>156.0</td>\n",
       "      <td>52.38</td>\n",
       "      <td>6.57</td>\n",
       "      <td>45.00</td>\n",
       "      <td>47.05</td>\n",
       "      <td>50.78</td>\n",
       "      <td>56.49</td>\n",
       "      <td>72.46</td>\n",
       "    </tr>\n",
       "    <tr>\n",
       "      <th>Ramicane</th>\n",
       "      <td>228.0</td>\n",
       "      <td>40.22</td>\n",
       "      <td>4.85</td>\n",
       "      <td>22.05</td>\n",
       "      <td>36.67</td>\n",
       "      <td>40.67</td>\n",
       "      <td>45.00</td>\n",
       "      <td>47.62</td>\n",
       "    </tr>\n",
       "    <tr>\n",
       "      <th>Stelasyn</th>\n",
       "      <td>181.0</td>\n",
       "      <td>54.23</td>\n",
       "      <td>7.71</td>\n",
       "      <td>45.00</td>\n",
       "      <td>48.05</td>\n",
       "      <td>52.43</td>\n",
       "      <td>58.72</td>\n",
       "      <td>75.12</td>\n",
       "    </tr>\n",
       "    <tr>\n",
       "      <th>Zoniferol</th>\n",
       "      <td>182.0</td>\n",
       "      <td>53.24</td>\n",
       "      <td>6.97</td>\n",
       "      <td>45.00</td>\n",
       "      <td>47.34</td>\n",
       "      <td>51.82</td>\n",
       "      <td>57.95</td>\n",
       "      <td>73.32</td>\n",
       "    </tr>\n",
       "  </tbody>\n",
       "</table>\n",
       "</div>"
      ],
      "text/plain": [
       "              count   mean   std    min    25%    50%    75%    max\n",
       "Drug Regimen                                                       \n",
       "Capomulin     230.0  40.68  4.99  23.34  37.69  41.56  45.00  48.16\n",
       "Ceftamin      178.0  52.59  6.27  45.00  47.21  51.78  56.80  68.92\n",
       "Infubinol     178.0  52.88  6.57  36.32  47.31  51.82  57.31  72.23\n",
       "Ketapril      188.0  55.24  8.28  45.00  48.23  53.70  60.87  78.57\n",
       "Naftisol      186.0  54.33  8.13  45.00  47.29  52.51  59.96  76.67\n",
       "Placebo       181.0  54.03  7.82  45.00  47.46  52.29  59.92  73.21\n",
       "Propriva      156.0  52.38  6.57  45.00  47.05  50.78  56.49  72.46\n",
       "Ramicane      228.0  40.22  4.85  22.05  36.67  40.67  45.00  47.62\n",
       "Stelasyn      181.0  54.23  7.71  45.00  48.05  52.43  58.72  75.12\n",
       "Zoniferol     182.0  53.24  6.97  45.00  47.34  51.82  57.95  73.32"
      ]
     },
     "execution_count": 9,
     "metadata": {},
     "output_type": "execute_result"
    }
   ],
   "source": [
    "# Using the aggregation method, produce the same summary statistics in a single line\n",
    "\n",
    "round(regimen_group[\"Tumor Volume (mm3)\"].describe(),2)"
   ]
  },
  {
   "cell_type": "markdown",
   "metadata": {},
   "source": [
    "## Bar and Pie Charts"
   ]
  },
  {
   "cell_type": "code",
   "execution_count": 63,
   "metadata": {},
   "outputs": [
    {
     "name": "stdout",
     "output_type": "stream",
     "text": [
      "Drug Regimen\n",
      "Capomulin    25\n",
      "Ceftamin     25\n",
      "Infubinol    25\n",
      "Ketapril     25\n",
      "Naftisol     25\n",
      "Placebo      25\n",
      "Propriva     25\n",
      "Ramicane     25\n",
      "Stelasyn     24\n",
      "Zoniferol    25\n",
      "Name: Mouse ID, dtype: int64\n"
     ]
    },
    {
     "data": {
      "image/png": "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\n",
      "text/plain": [
       "<Figure size 432x288 with 1 Axes>"
      ]
     },
     "metadata": {
      "needs_background": "light"
     },
     "output_type": "display_data"
    }
   ],
   "source": [
    "# Generate a bar plot showing the total number of unique mice tested on each drug regimen using pandas.\n",
    "bar_chart_info = regimen_group[\"Mouse ID\"].nunique()\n",
    "print(bar_chart_info)\n",
    "bar_chart = bar_chart_info.plot(kind = \"bar\", color = \"c\")"
   ]
  },
  {
   "cell_type": "code",
   "execution_count": 65,
   "metadata": {},
   "outputs": [
    {
     "data": {
      "image/png": "iVBORw0KGgoAAAANSUhEUgAAAX4AAAFCCAYAAAD2YrYqAAAAOXRFWHRTb2Z0d2FyZQBNYXRwbG90bGliIHZlcnNpb24zLjMuMiwgaHR0cHM6Ly9tYXRwbG90bGliLm9yZy8vihELAAAACXBIWXMAAAsTAAALEwEAmpwYAAArgklEQVR4nO3dd5xkVZ3+8c9DEJAsDCwiMIioCyvJQVEMYIZVMIHLImkRdNWfCLgroEsQAwZ0jSAuSUCRYEIRCRJEFCTDCAgiCpIRZECCA8/vj3Nqpqanu7pnmHuLmfu8X69+ddWt8D1d3f29554o20RERHcsNOwCREREu5L4IyI6Jok/IqJjkvgjIjomiT8iomOS+CMiOiaJP57WJP1M0k7DLkfTJE2VtNkEnveQpOc2X6JYkCXxz+ck3SLpEUnTJD0g6SJJ75PU2u9W0oGS/lGTUq8ML5sX7217C9vHzov3eioknSfp0foz3ivp+5JWmcv3OkbSJ/uP2V7X9nnjvdb2UrZvnpu4c6L+Xb1unOcsI+l/Jf25fi431fsrNly2nSVd2GSMBV0S/4LhLbaXBtYADgE+Chw51pMlLdxAGb5neylgReBc4OQGYgzbB+vP+HxgOeBLc/oGDX32rZP0DOAcYF3gTcAywMuB+4CXDLFoMRG28zUffwG3AK8bcewlwJPAv9T7xwCHAacDDwOvA84D3tP3mp2BC/vuvwG4Afgb8A3g/P7nj4h3IHB83/11AAOT6v1lKSeiO4C/AJ8EFq6PLQwcCtwL/BH4YH3tIvXxGeWsZfwVJeE+ANxMSTY7A7cCdwM79ZVjMeALwJ+Bu4DDgSXqY5sBtwF719fdAewy4HMe+Xl9ALi23j4ZuLN+VhcA6/Y9b+RnvzvwD+Bx4CHgtJG/x/qZ7Af8AZgGXAasVh8z8Ly+9z4cOKs+73xgjb7YX66fy4P1PV454nd2EvDt+tqpwJT62HGUv59Hahn/e5TP4z31M11qwGf2z/Vze6C+/1YDPs+dmfXvz8D7gBuB+4GvA6rv+SjwRC3bA8P+H5wfv1LjXwDZvoSS1F7Zd/jfgU8BSwMDL5PrpfopwL7ACpQTwMsnErvWBHek1Pzur4ePBaYDzwM2pJxU3lMf2w3YAtgA2Ah46zghXgpcXcv1HeBEYOP63u8GviZpqfrcz1Jq5xvUx1cF9u97r3+inJRWBXYFvi5p+Qn8jCsC7wCuqId+BqwNrARcDpww4iX9n/236+Ofc2m2ecsoIfYCtgO2pNSk/wP4+xjF2R44mHKldeWI2L+l/OzPonxWJ0tavO/xrSif33LAj4GvAdjegXKyfEst4+dGifs64AzbD41WKEmLAqcBZ1I+l/8HnCDpBWP8HKN5M+V3uz6wLfBG29dRTgi/rmVbbg7eL6ok/gXX7ZR/+J4f2f6V7SdtPzrOa7cEptr+vu3pwFcoNdpBtpX0AKWWuBvwTtvTJa1MSewftv2w7bspNfZ/670O+LLt22zfT2mqGuSPto+2/QTwPWA14BO2H7N9JqUm/TxJquXY0/ZfbU8DPt0XF0rN+xO2/2H7dEoNclBi+kr9Ga+iXCHsBWD7KNvTbD9GqUmvL2nZvtfNyWcP5aT4cds3uLjK9n1jPPenti+osT8GvEzSarVcx9u+z/Z024dSroD6f74LbZ9eP8vjKAl2olagfAZj2QRYCjjE9uO2fwH8hHJCm6hDbD9g+8+U5sMN5uC1McAiwy5ANGZV4K9992+dg9c+u//5ti3ptnFec5Ltd9fa8KnAiymX82sAiwJ3lFwMlApH7/1niTWBct7Vd/uRWr6Rx5YCJgHPBC7riytKM0rPffXE1vP3+tqxfMj2//UfqG32nwK2qTGfrA+tSGn6gTn77KGczP4wwef2/54ekvRX6mcqaW/KSeTZlKaTZWq5evpP5n8HFpe0yIjPZCz3AYM6t58N3Gr7yb5jf6L8XU7UyPIN+t3EHEiNfwEkaWPKP1h/k87IZVgfpiTGnn/qu30H8Jy+91P//UFs3wu8Fziwjnq5FXgMWNH2cvVrGdvrjhaLkvTmhXspJ4F1++Iu69I5Oy/9O7A1peljWWByPa6+54z87MdbEvdWYK0Jxp/xedUmrmcBt0t6JaWTf1tg+dok8rcR5RpkvDKeDbxR0pJjPH47sNqI0WWrU/p4YPDf31MtW4wjiX8BUofXvZnSbnu87WsGPP1K4O2SninpeZQ27p6fAi+S9FZJi1A6Mif8j2n7euDnlE7BOyjtvIfW8i0kaS1Jr65PPwnYQ9KqkpajJKunrNY0vwV8SdJKADXGG+fF+/dZmnJiu4+SyD49gdfcBQwai/9/wMGS1laxnqQVxnjulpJeUftWDgYutn1rLdd04B5gEUn7U2r8EzVeGY+jnKBOlfTC+ntdQdJ+krYELqYk9/+WtGido/AWyt8mDP77m0jZnlN/5pgLSfwLhtMkTaP8I34M+CKwyziv+RKlPfwuSufrjE7BWmvfBvgcJaGtA1xKSXAT9Xlg95p0dwSeAfyO0uF7CjObCb5FOTFcTeksPZ2SsJ6Yg1hj+ShwE/AbSQ9Saqlz0rk4Ed+mNGH8hfLz/WYCrzkSWKfOefjhKI9/kXJCPJMyIudIYIkx3us7wAGUZr0XUzp7oZx4fwb8vpbvUeasyekzwMdrGT8y8sHap/A64HrKqKIHgUsoTUkX236c0nm8BeXq6xvAjrVSAAP+/ibgF5RRQndKuncOXheV7Fw1xWD1cv02YHvb5zYcawvgcNtrNBlnQSDpGOA22x8fdlli/pIaf4xK0hslLSdpMcqYcjGx2uycxllC0paSFpG0KqX2+oN5HSciZkrij7G8jDKy5F5K2+xbbT/SQBwBB1GagK4ArmPWsfYRMY+lqSciomNS44+I6Jgk/oiIjpkvZu6uuOKKnjx58rCLERExX7nsssvutT1p5PH5IvFPnjyZSy+9dNjFiIiYr0j602jH09QTEdExSfwRER2TxB8R0TFJ/BERHZPEHxHRMY0lfkmrSTpX0nWSpkraox4/UNJfJF1Zv7ZsqgwRETG7JodzTgf2tn25pKUpOyGdVR/7ku0vNBg7IiLG0Fjirxtw3FFvT5N0HXO27VpERDSglQlckiYDG1J25dkU+KCkHSmbe+xdN9ke+Zrdgd0BVl999bmOfeAf/zjXr51wjDXXTOzEHmrsNuI/XWMP07B/53Or8c7dug/oqcCHbT8IHEbZT3QDyhXBoaO9zvYRtqfYnjJp0mwzjiMiYi41mvglLUpJ+ifY/j6A7btsP9G3J+pLmixDRETMqslRPaLsFXqd7S/2HV+l72lvA65tqgwRETG7Jtv4NwV2AK6RdGU9th+wnaQNAAO3AO9tsAwRETFCk6N6LqRsqzfS6U3FjIiI8WXmbkRExyTxR0R0TBJ/RETHzBc7cEVEjKWrk8eeitT4IyI6Jok/IqJjkvgjIjomiT8iomOS+CMiOiaJPyKiY5L4IyI6Jok/IqJjkvgjIjomiT8iomOS+CMiOiaJPyKiY5L4IyI6Jok/IqJjkvgjIjomiT8iomOS+CMiOiaJPyKiY5L4IyI6Jok/IqJjkvgjIjomiT8iomOS+CMiOiaJPyKiY5L4IyI6Jok/IqJjkvgjIjomiT8iomMaS/ySVpN0rqTrJE2VtEc9/ixJZ0m6sX5fvqkyRETE7Jqs8U8H9rb9z8AmwAckrQPsA5xje23gnHo/IiJa0ljit32H7cvr7WnAdcCqwNbAsfVpxwJvbaoMERExu1ba+CVNBjYELgZWtn0HlJMDsFIbZYiIiKLxxC9pKeBU4MO2H5yD1+0u6VJJl95zzz3NFTAiomMaTfySFqUk/RNsf78evkvSKvXxVYC7R3ut7SNsT7E9ZdKkSU0WMyKiU5oc1SPgSOA621/se+jHwE719k7Aj5oqQ0REzG6RBt97U2AH4BpJV9Zj+wGHACdJ2hX4M7BNg2WIiIgRGkv8ti8ENMbDr20qbkREDJaZuxERHZPEHxHRMUn8EREdk8QfEdExSfwRER2TxB8R0TFJ/BERHZPEHxHRMUn8EREdk8QfEdExSfwRER2TxB8R0TFJ/BERHTOhxC/pFZJ2qbcnSVqz2WJFRERTxk38kg4APgrsWw8tChzfZKEiIqI5E6nxvw3YCngYwPbtwNJNFioiIpozkcT/uG0DBpC0ZLNFioiIJk0k8Z8k6ZvAcpJ2A84GvtVssSIioinjbr1o+wuSXg88CLwA2N/2WY2XLCIiGjFu4q8jeH7ZS/aSlpA02fYtTRcuIiLmvYk09ZwMPNl3/4l6LCIi5kMTSfyL2H68d6fefkZzRYqIiCZNJPHfI2mr3h1JWwP3NlekiIho0rht/MD7gBMkfQ0QcCuwY6OlioiIxkxkVM8fgE0kLQXI9rTmixUREU0ZM/FLerft4yXtNeI4ALa/2HDZIiKiAYNq/L0ZulmeISJiATJm4rf9zfr9oPaKExERTRvU1POVQS+0/aF5X5yIiGjaoKae9wHXAicBt1NG9ERExHxuUOJfBdgGeBcwHfgecKrt+9soWERENGPMCVy277N9uO3NgZ2B5YCpknZoqWwREdGAiezAtRHwYeDdwM+AyybyxpKOknS3pGv7jh0o6S+SrqxfW85luSMiYi4N6tw9CHgzcB1wIrCv7elz8N7HAF8Dvj3i+Jdsf2EOyxkREfPIoDb+/wFuBtavX5+uk7cE2PZ6g97Y9gWSJs+jckZExDwyKPGv2VDMD0raEbgU2DudxRER7RrUufunQV9zGe8wYC1gA+AO4NCxnihpd0mXSrr0nnvumctwEREx0kSWZZ5nbN9l+wnbT1L27X3JgOceYXuK7SmTJk1qr5AREQu4VhO/pFX67r6NMkEsIiJaNGbil3RO/f7ZuXljSd8Ffg28QNJtknYFPifpGklXA5sDe87Ne0dExNwbOHNX0quBrSSdyIglG2xfPuiNbW83yuEj57yIERExLw1K/PsD+wDPAUauvW/gNU0VKiIimjNoWeZTgFMk/Y/tg1ssU0RENGgiWy8eXDdbf1U9dJ7tnzRbrIiIaMpE1ur5DLAH8Lv6tUc9FhER86Fxa/zAvwIb1LH3SDoWuALYt8mCRUREMyY6jn+5vtvLNlCOiIhoyURq/J8BrpB0LmVI56tIbT8iYr41kc7d70o6D9iYkvg/avvOpgsWERHNmEiNH9t3AD9uuCwREdGCVtfqiYiI4Uvij4jomIGJX9JC/XvmRkTE/G9g4q9j96+StHpL5YmIiIZNpHN3FWCqpEuAh3sHbW/VWKkiIqIxE0n8BzVeioiIaM1ExvGfL2kNYG3bZ0t6JrBw80WLiIgmTGSRtt2AU4Bv1kOrAj9ssEwREdGgiQzn/ACwKfAggO0bgZWaLFRERDRnIon/MduP9+5IWoSyA1dERMyHJpL4z5e0H7CEpNcDJwOnNVusiIhoykQS/z7APcA1wHuB04GPN1moiIhozkRG9TxZN1+5mNLEc4PtNPVERMynxk38kv4VOBz4A2VZ5jUlvdf2z5ouXEREzHsTmcB1KLC57ZsAJK0F/BRI4o+ImA9NpI3/7l7Sr24G7m6oPBER0bAxa/yS3l5vTpV0OnASpY1/G+C3LZQtIiIaMKip5y19t+8CXl1v3wMs31iJIiKiUWMmftu7tFmQiIhox0RG9awJ/D9gcv/zsyxzRMT8aSKjen4IHEmZrftko6WJiIjGTSTxP2r7K42XJCIiWjGRxP9lSQcAZwKP9Q7avryxUkVERGMmkvhfBOwAvIaZTT2u9yMiYj4zkcT/NuC5/UszT4Sko4A3UyaA/Us99izge5SO4luAbW3fPyfvGxERT81EZu5eBSw3F+99DPCmEcf2Ac6xvTZwTr0fEREtmkiNf2Xgekm/ZdY2/oHDOW1fIGnyiMNbA5vV28cC5wEfnWBZIyJiHphI4j9gHsZb2fYdALbvkJQtHCMiWjaR9fjPb6MgI0naHdgdYPXVVx9GESIiFkjjtvFLmibpwfr1qKQnJD04l/HukrRKfd9VGLDKp+0jbE+xPWXSpElzGS4iIkYaN/HbXtr2MvVrceAdwNfmMt6PgZ3q7Z2AH83l+0RExFyayKieWdj+IRMYwy/pu8CvgRdIuk3SrsAhwOsl3Qi8vt6PiIgWTWSRtrf33V0ImEKZwDWQ7e3GeOi1EytaREQ0YSKjevrX5Z9OmXi1dSOliYiIxk1kVE/W5Y+IWIAM2npx/wGvs+2DGyhPREQ0bFCN/+FRji0J7AqsACTxR0TMhwZtvXho77akpYE9gF2AE4FDx3pdREQ8vQ1s46+rae4FbE9ZW2ejrKYZETF/G9TG/3ng7cARwItsP9RaqSIiojGDJnDtDTwb+Dhwe9+yDdOewpINERExZIPa+Od4Vm9ERDz9JblHRHRMEn9ERMck8UdEdEwSf0RExyTxR0R0TBJ/RETHJPFHRHRMEn9ERMck8UdEdEwSf0RExyTxR0R0TBJ/RETHJPFHRHRMEn9ERMck8UdEdEwSf0RExyTxR0R0TBJ/RETHJPFHRHRMEn9ERMck8UdEdEwSf0RExyTxR0R0zCLDCCrpFmAa8AQw3faUYZQjIqKLhpL4q81t3zvE+BERnZSmnoiIjhlW4jdwpqTLJO0+pDJERHTSsJp6NrV9u6SVgLMkXW/7gv4n1BPC7gCrr776MMoYEbFAGkqN3/bt9fvdwA+Al4zynCNsT7E9ZdKkSW0XMSJigdV64pe0pKSle7eBNwDXtl2OiIiuGkZTz8rADyT14n/H9hlDKEdERCe1nvht3wys33bciIgoMpwzIqJjkvgjIjomiT8iomOS+CMiOiaJPyKiY5L4IyI6Jok/IqJjkvgjIjomiT8iomOS+CMiOiaJPyKiY5L4IyI6Jok/IqJjkvgjIjomiT8iomOS+CMiOiaJPyKiY5L4IyI6Jok/IqJjkvgjIjomiT8iomOS+CMiOiaJPyKiY5L4IyI6Jok/IqJjkvgjIjomiT8iomOS+CMiOiaJPyKiY5L4IyI6Jok/IqJjkvgjIjomiT8iomOGkvglvUnSDZJukrTPMMoQEdFVrSd+SQsDXwe2ANYBtpO0TtvliIjoqmHU+F8C3GT7ZtuPAycCWw+hHBERnSTb7QaU3gm8yfZ76v0dgJfa/uCI5+0O7F7vvgC4ocVirgjc22K8xE7sxE7sJqxhe9LIg4u0WIAejXJstrOP7SOAI5ovzuwkXWp7SmIndmIn9oISu98wmnpuA1bru/8c4PYhlCMiopOGkfh/C6wtaU1JzwD+DfjxEMoREdFJrTf12J4u6YPAz4GFgaNsT227HOMYShNTYid2Yid2G1rv3I2IiOHKzN2IiI5J4o+I6Jgk/oiIjknij4jomGFM4HrakbQY8A5gMn2fie1PLKixJZ3GKBPn+uJv1WDstw963Pb3G4z9rHFi/7Wp2CPKsTKwcb17ie2724jbF38lYPHefdt/biHmysCngWfb3qKu0fUy20e2EHtT4EBgDcr/mQDbfm6DMYf2PzaeJP7iR8DfgMuAxzoS+wstxhrpLQMeM9BY4qd8zmbsGeSNJYIeSdsCnwfOq+X4qqT/sn1KC7G3Ag4Fng3cTUmE1wHrNh0bOAY4GvhYvf974HtA44m/xtiT8vt/ooV4MNz/sYEynBOQdK3tf+la7L4yPAN4fr17g+1/DLM8CzpJVwGv79XyJU0Czra9fkuxX1PjbShpc2A727uP89J5Efu3tjeWdIXtDeuxK21v0ELsi22/tOk4A+I/rf7HUuMvLpL0ItvXdCw2kjYDjgVuodQ+V5O0k+0LGoz5btvHS9prtMdtf7Gp2CPKsRXwqnr3PNs/aSMusNCIpp37aK+/7R+275O0kKSFbJ8r6bMtxX5Y0grU5g9Jm1CudttwrqTPU64mZ1xZ27686cDD+B8bTxJ/8QpgZ0l/pPxR9Nr/1lvAY0O57H+D7RsAJD0f+C7w4gZjLlm/L91gjIEkHUJpYz+hHtpD0qa2920h/BmSfk75nAHeBZzeQlyAByQtBVwAnCDpbmB6S7H3oizPspakXwGTgHe2FLtX2+9fIM2Uq5+mDeN/bKA09QCS1hjtuO0/Lcixa/yrR55kRjvWQNyFgQ/Z/lKTcQbEvxrYwPaTfeW5oq0Tbu3gfgXlRH+B7R+0FHdJ4BHKFcb2wLLACbbvayn+IpRl1kWLTR6SFrbdVtv+yNhD+R8bpNM1fknL2H4QmNal2CNcKulI4Lh6f3tKB1ijbD9Rm1qGkvir5YDeKJ5lW459EaWT8UnKwoVt2R042fZtlOaHtr2EmSPYNpKE7W+3EPcmSadQ1ga7roV4/S4bxv/YIJ2u8Uv6ie0312aWkSM9mh7qNbTYI8qxGPAB+mqfwDdsNz7CSNKnKAn3e8DDveMttbtuBxwCnEv5uV8F7Gv7xBZivwfYH/hFjf1q4BO2j2oh9gHAtpQT3onAKbbvajpujX0csBZwJTNH1tj2h1qIvTRlJeBdKFc7RwEn1spX07GH9j82Zpm6nPhjuCSdO8ph226j3RVJq1Da+QVcbPvOluLeALy817xSOzwvsv2CNuLXmOtR+hbeAdxm+3UtxLwOWMdDTjqSXkVpY18OOAU42PZNDcVaCLh62CP3Rup6U89Ggx5vo+ZZy7Ees0/ganIse3/skRNbevEbv+KwvXnTMcZSf+4rbf9Y0ruB/5b05Zb6Vm5j1ia+acCtLcTtdzdwJ2VE0UotxbwW+CfgjpbizVD7cP6VUuOfTOlwPQF4JaVj/fljvvgpsP2kpKskrd7GJLmJ6nTip/zyx9JKj7+ko4D1gKmU9t5e7FYSP8OZ2ALMqOkeQLkENnAhpcmjjY7Gw4D1Ja0P/Bfl0v/blGaXRvQNX/0LcLGkH1F+7q2BS5qKO6IM/0mp6U+i1HZ3s/27NmJT9pv9naRLmHVIZRszWG+kNOt93vZFfcdPqVcATVoFmFp/7v4mzczcHYZh1jj7bGJ7nSHG/5vtnw0p9omU9s531PvbU9r7G292AKbbtqStga/YPlLSTg3H7A1f/UP96vlRw3H7rQF82PaVLcbsOXAIMXvWs/3QaA+00MdwUMPvP8fSxg9I2nG0422MNqi9/Ye2WOsaGf8Qyk5ow5jYcpntF4841spm1JLOB86gXPq/CriH0vTzoqZj95VhSdsPj//MeRJrGdsPjrVWUVtrFA2LpM8Bn6QMZT0DWJ9yAjy+pfhrAGvbPlvSM4GFbQ9tRF+na/x9Nu67vTjwWuByyqV/044Ffi3pToYzgWuYE1vOlfRvwEn1/juBn7YQF0pzx78Du9q+U9LqlPVzGifpZZQmtqWA1Wtz03ttv7/BsN8B3szoaxW1tUbRJsBXgX8GnkGpcDxse5mmY1MmUP23pLdR+li2oTT9NJ74Je1GGUb7LMqoplWBwyl5ZihS4x+FpGWB49pog5N0E2VG4zXMbONvbQLXMEmaRpnF2/u5F2JmG6hbSgitk3Qx5ST34741axpfs0mSgNWG1cko6VLKkMqTKRWNHSm14P1aiD3V9rqSvgWcavsMSVe5nfWRrqTMX7i47/d9TZtXlyOlxj+6vwNrtxTrz7Z/3FKsGZ4O6+XYbn3JBkkX2n5FPen013p6V1qtnGxs31ry8AyNd6zXPo0fMMSlAmzf1DeL9mhJF437onnjNEnXU5p63q+yMN6jLcV+zPbjvd93nb081Bp3Ej+zrZu9ELAOM5sfmna9pO8ApzFrG3vTo3qGvl4OgKTlKSfZ/rXhG1u8yvYr6vdh/ty3Sno5YJVVGz9EWRq5Db+RtLHtNmcL9/y9/rxX1jb3O5j5d9go2/uoLEb3YJ01/jBlNFUbzpe0H7CEpNcD76f8vw9NmnoASf1D+KYDf6pT2tuIffQoh237P9qIP0x1BusewHMoszk3AX7dxgQuScfZ3mG8Yw3FXhH4MmX0koAzgT3aGMYq6XeUMet/ojSrtdanVDs476K07+9JmbX9jaYmT40S/18olbr+SkYbAzgWAnYF3kD5vH8O/N8wJ7Il8feRtAyzTmJaoEc6AEh6LiUJbUK56vk1sKftm1uIfQ2lY/03tjeQ9ELgINvvaiH25bY36ru/CGWG5TCH1jZOw12QcEngEc+6MN5itv/eQuwDgM0oif90YAvgQtuNrQ4q6Rzbr5X0WdsfbSrO3Mieu4Ck3SXdBVwNXEoZ+XBpS7EXl/QBSd+QdFTvq43Y1XcozVqrUHZlOpmZywU37VHbj0JZz8T29ZSVGxsjad/avr+epAfr1zRKTbSV8fSSjpW0XN/95dv6ndcEvwKlmWMrYIUWBxKcAzyz7/4SwNktxX4nZRTNnbZ3oQznXKzhmKvU1oStJG0oaaP+r4ZjD5Q2/uK/gHVt3zuE2McB1wNvBD5BmcTU5uqBsn1c3/3jJX2wpdi31QT4Q+AsSfcDtzcc8ybbS0s6yfa2Dccay3q2H+jdsX2/pA3bCCxpf8pQxl4f0tGSTrb9yRbCL94/icr2Q3VMexseqcsnTK9X9nfT/BDW/YF9KE2ZIwdLtDVkelRJ/MUfKCN5huF5treRtLXtY2tH78+bDto3kedcSftQZtGaMr69lbH0tt9Wbx6osmDbskDTs4j3pVzVPK/hOIMsJGl52/fDjN9FW/+L2wEb9l1pHUKZs9JG4n9Y0ka9yYGSXkwZZdOGS2sl41uUK/qHaHiZDJc9lE+R9D+2D24y1pxK4i/2pWyBeDGzjqxpfLlYoLcRxQO18+lOyiJSTRs5kee9fY8ZaPwPtb8z1fb5vWNAkx2s99WTzJqSZhtG29L6KYdS/t56m6tvA3yqhbhQtv9bnJlDGRdj1uUjmvRh4GRJvau6VSgVjcb1TY47XNIZwDK2r24ypqQX1ubLn47WtNPG7PixpHMXUFk86UJmn0TV+EYVdWTLqcCLgGMoszn/x/Y3m449bKN0sC4MXNNkB2sdTrgRpYntPSMf752AmiZpXWBzyon3nLaW7JD0Q0qH+lmUE/zrKX/7d0PzlR1JizJzB67r3fAOXOO1pTeZfCUdYXt3DXn58dEk8QOSLrL98iHFXtP2H8c71mD81tcpkrQvsB+lc+/vzLzqeBw4wi3seytpku17mo4zThlWYtahhY3PqNU4C9E1UdmR9Brbv1DZbnK0mI3NWRkj6faFHl7yHaYkfujtBPUnZp9E1fhwzpG13npstsXLGoz/1b67M9YpanKYW1/sz7SR5MeIPQn4KLOP625jDsFWlOaeZ1Nq2msA19let+nYNf4zmLn+fOP73ko6yPYBHZ+z8nJm33OjjbXARi9PEj+obH84kt3s1osvBNYFPkcZVdSzDPBfbSWBUcrV5jpFC1EWSlvT9sGSVgNWsd342vSSzqQsAf0R4H3ATsA9bYy3lnQVZUTH2bY3lLQ5sJ3t3VuIvRllYcBbKFdaqwE7NTlb+umgjh7aC1i9Nr+sDbzA9k9aiD20LSfHks5dwPaaQwj7AspqicsBb+k7Pg3YbQjl6WlznaKvU/pUXkPpTH6oHtt40IvmkRVc1uDfo7brn6+yVHMb/mH7PkkLSVrI9rkqywm04VDKSpU3AEh6PmXeRuNXmHVUzY7MXvNtIwEeTRnQ0GvSvY0yuqvxxE9ZkG7oW072S+JnRofTf1LWZQc4D/hmw5fA77S9g6T9bH+6wTgDabjrFL3U9kaSroAZ49mf0VLs3u/2Dkn/Spk/8JyWYj8gaSnKJjQnSLqbslRIGxbtJX0A27+vf/9tOB34DSMGUbRkLdvvkrQdgO1HpFlXyWvQ0LacHEsSf3EYsCjwjXp/h3pstlEf89CLVabPv0vSYcy6Pnrj/Qt1puxjwBf6Dre6ThHwjzqSx7VMk2gvIXyyNmvtTVkjfhnK+jFt2JoynHJPyoS9ZSmT99pwmcrmP71Je9tTasJtWNz2qKvBtuBxSUsw829tLfr68xo2zC0nR5U2fkqbq0esyz3asXkc80OUq4znMvts1Ub7F2r8y2ttu5WFycYow/aUcdwbUdqd3wl83PbJwyhPF0haDPgAZZ9jUa46vlErAU3H3pPSnPcT2h9E8QbgY5Qr2jOBTYFdbA8a9TOvYo+6j3NbQ4dHk8RPSYLANrb/UO8/Fzhl5GibhmIfZvs/m44zStxrKTtO7c+snctA40PsntO7qqid3K+ljmenzGRubMnaumTBWNzkDEvN3AOgd3XX++drZS+A2pl+tRve8GVA/A9QJqo9wMyfvfFKTl/8FSiLEYqyMGBrS7RIWpmZfVeX2L67rdijlieJHyS9ltL5czPlj2INWqoN1PivoOxEdLTKkr1LNz2Ov8bcHtgWGDmDtdEhdpJuAN5o+5YRx/8D+JjttRqMvfcoh5ekLJu7gu2lmor9dCDpBGDfNuYMjBL7D5R+ndbXxFJdKXO8Yw3F3pZSyTqPkl9eSRm5d8qg1zUpbfyA7XN6w7uYOaOwlfY/leVip9TYR1PWKj+ecinaGNsXAheqbG5+ZJOxRrEnZVG2LW3fCKCyXtD2wKiXxfOK7UN7tyUtTdkPYBfKWkWHjvW6eUHS4pSho8+jrAR7lO22OnV7VgGm1vbmGRu9t9TePJWW18Sqn/kzgRVVNv3pXW0tQ5lH0YaPARv3avm1L+tsIIl/mOofx/sp7Z4GfinpcNeFrBr2NmBDykJZ2L69JqRW1CGNrU4usX26pMeAn0l6K6UTfWPgVa4LlzVJZVG0vSgnmmOBjdqIW2P9A/glsCVlHsceLcTtd1DL8fo9Qdl961zaWxPrvZQ1gp7NrJ3Y0yhDh9uw0IimnfsY8pL4SfzFtyl/CL1ZrNtRRj1s00Lsx21bUm+0QStb0fWMNbmE8pk0pl5l7Uy5/L0IeG0bJ1pJnwfeDhwBvMh9ywS3YB3XDbbryJrGJ6r1jLjauAY4cghXGz+sX226iDI8+Z22v1qXrHgHZQLbd1oqwxmSfs7MfS7eRRnaOjRp42c4o3r64nyEMmHq9cBngP8AvmP7qwNfOO/iX0fLk0tGdHIuRqkFP0ELnZySnqTUNqfT8mbrI5fnGG25jgZjf4+ZVxtbUIbttn210bo6cON1tv8q6VWUJr3/B2wA/LOb3YHrjbZ/Xm+/nVlHUi0yzNFrqfEXV0jaxPZvACS9FPhVkwElPQ9Y2fYXVDZgfpDSzv8z2q0NtD65xEPc6Nz2MC+x15f0YL0tyubbD9LOqJ6hXW301H60zzD7+khNjupZuG+46LsoiwCeCpwq6coG4wKcLukC4N11lNyMkXL1hJTEP2QvBXaU1BvpsDpwncqesHYzG1H/L2WFSmyfRVkmF0lT6mNvGeuF89jTbnLJgsr2wkMMP2MWuu3p7U1ancXRwAHAlyhLUu/CiImLDVhY0iK1Weu1QP96SE3nv6spzUm/kbTXiBr+UH4BPUn8xZuGEHOyR9kIwvalkia3WI4DW4wVwzPMq42eJWrfjlz2+T1Q0i8pJ4OmfJeyDtO9lN2+fgkzrrj/1mBcKJ/rt1TWgDpB0pbAB1w2lx9qG3sSPzM2oG57ffTFBzy2RINxZzHM2YPRniFfbfQ8WieR3aiyr/NfgJWaDGj7U5LOoQxjPbOvL2shSlt/4+p6SC+jbG95hcbYA6NN6dxlOOujS/ou8Avb3xpxfFfK6omNbknX18E620O0VwOMDpG0MXAdZUXagylrFH3W9sXDLFdTJF1he8MRxzYDjgImDbOvK4mf4ayPXqdw/4Cy61RvfPEUygSut9m+s6nYEU8HkhYB3mX7hGGXpQmS3mr7h6McXx54r+1D2i9VLUMSP9TZq1PqCWBD209KusT2S1qIvTnQWztlqu1fNB0zok2SlqEsDLcqZXmQs+r9jwBX2d56iMXrpCR+QNLZwFspQ81WpDT3bOwh7cMbsSCR9CPgfuDXlJE1y1OubPewfeUQi9ZZnU78vbH0lFmrj1A6fLantPH/1HZb65RHLLAkXdM3h2Bh4F7KFojThluy7hrqehFPA/8LTLP9sO0nbU+3fSxlAtWBQy1ZxIKjfw7BE8Afk/SHq+s1/ms9xtrk/bWUiJh7kp5g5kqgogxX/jsZQTY0XR/H/7QYSx+xIHuazCGIPl1v6vmtpN1GHqxj6dO+HxELpK439WQsfUR0TqcTf0/G0kdElyTxR0R0TNfb+CMiOieJPyKiY5L4Y74k6QlJV0qaKukqSXvVJX+biLWZpL9JukLS9ZK+8BTeaytJ+8zL8kXMqbTxx3xJ0kO2l6q3V6LsdPQr2weMeF5v96WnEmsz4CO23yxpCeAKYFfbjW7PGdGU1Phjvmf7bsqWeh9UsbOkkyWdBpxZa+w/6T1f0tck7Vxvb1lr8RdK+kr/88aI9QhlbadV6+vfIOnXki6vMXsno1Hft5bta/X2MZIOk3SupJslvVrSUZKuk3RMX3nHinGLpIPq8WskvXBefaaxYEvijwWC7Zspf8+9HZ1eBuxk+zVjvUbS4sA3gS1svwKYNF6cupb62sAFklYEPg68zvZGwKXAXnP4vstT9oLYEziNsh/tusCLJG0wVoy+199bjx9GWeY4YlxJ/LEg6d/A+izbfx3n+S8Ebrb9x3r/uwOe+0pJVwN3Aj+pk/s2AdYBfiXpSmAnysquc/K+p9XtAK8B7rJ9je0nganA5AExer5fv19Wnx8xrq6v1RMLCEnPBZ6g7KUAMxcFA5jOrJWc3hpN/SeK8fyytvE/H7hQ0g/q68+yvd2Ismw46juM7rH6/cm+2737i1B+ptlijPL6J8j/c0xQavwx35M0CTgc+JpHH63wJ2AdSYtJWpayGQjA9cBzJU2u98fd59j27ykb9nwU+A2wad3XAUnPrCeGOX7fAcaKETHXUkOI+dUSteljUUqN/jjgi6M90fatkk4CrgZupIzKwfYjkt4PnCHpXuCSCcY+nNKevhSwM/BdSYvVxz5u+/dz+b6jlf2e2hE9Swzg93P7nhEZzhmdJmkp2w9JEvB14EbbX3q6vm/EvJCmnui63eqVw1RgWcponKfz+0Y8ZanxR0R0TGr8EREdk8QfEdExSfwRER2TxB8R0TFJ/BERHZPEHxHRMf8fTn8Jbpo12oAAAAAASUVORK5CYII=\n",
      "text/plain": [
       "<Figure size 432x288 with 1 Axes>"
      ]
     },
     "metadata": {
      "needs_background": "light"
     },
     "output_type": "display_data"
    }
   ],
   "source": [
    "# Generate a bar plot showing the total number of unique mice tested on each drug regimen using pyplot.\n",
    "x_axis = np.arange(len(bar_chart_info))\n",
    "tick_locations = [value for value in x_axis]\n",
    "\n",
    "plt.bar(x_axis, bar_chart_info, color=\"c\", alpha = 0.5, align=\"center\")\n",
    "\n",
    "plt.title(\"Drug Regimen Participant Count\")\n",
    "plt.xlabel(\"Drug Regimen\")\n",
    "plt.ylabel(\"Number of Mice\")\n",
    "plt.xticks(tick_locations, bar_chart_info.index, rotation=\"vertical\")\n",
    "plt.show()\n"
   ]
  },
  {
   "cell_type": "code",
   "execution_count": 13,
   "metadata": {},
   "outputs": [],
   "source": [
    "# Generate a pie plot showing the distribution of female versus male mice using pandas\n",
    "sex_group = unique_data.groupby(\"Sex\")\n",
    "\n",
    "count = sex_group[\"Mouse ID\"].nunique()\n"
   ]
  },
  {
   "cell_type": "code",
   "execution_count": 14,
   "metadata": {},
   "outputs": [
    {
     "data": {
      "image/png": "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\n",
      "text/plain": [
       "<Figure size 432x288 with 1 Axes>"
      ]
     },
     "metadata": {},
     "output_type": "display_data"
    }
   ],
   "source": [
    "# Generate a pie plot showing the distribution of female versus male mice using pyplot\n",
    "labels = [\"Male\",\"Female\"]\n",
    "colors = [\"lightskyblue\",\"lightcoral\"]\n",
    "plt.pie(count,labels = labels,colors = colors,autopct = \"%1.1f%%\")\n",
    "plt.title(\"Test Subjects by Sex\")\n",
    "plt.show()\n"
   ]
  },
  {
   "cell_type": "markdown",
   "metadata": {},
   "source": [
    "## Quartiles, Outliers and Boxplots"
   ]
  },
  {
   "cell_type": "code",
   "execution_count": 24,
   "metadata": {},
   "outputs": [
    {
     "data": {
      "text/html": [
       "<div>\n",
       "<style scoped>\n",
       "    .dataframe tbody tr th:only-of-type {\n",
       "        vertical-align: middle;\n",
       "    }\n",
       "\n",
       "    .dataframe tbody tr th {\n",
       "        vertical-align: top;\n",
       "    }\n",
       "\n",
       "    .dataframe thead th {\n",
       "        text-align: right;\n",
       "    }\n",
       "</style>\n",
       "<table border=\"1\" class=\"dataframe\">\n",
       "  <thead>\n",
       "    <tr style=\"text-align: right;\">\n",
       "      <th></th>\n",
       "      <th>Capomulin</th>\n",
       "      <th>Ramicane</th>\n",
       "      <th>Infubinol</th>\n",
       "      <th>Ceftamin</th>\n",
       "    </tr>\n",
       "  </thead>\n",
       "  <tbody>\n",
       "    <tr>\n",
       "      <th>9</th>\n",
       "      <td>38.982878</td>\n",
       "      <td>NaN</td>\n",
       "      <td>NaN</td>\n",
       "      <td>NaN</td>\n",
       "    </tr>\n",
       "    <tr>\n",
       "      <th>214</th>\n",
       "      <td>NaN</td>\n",
       "      <td>NaN</td>\n",
       "      <td>36.321346</td>\n",
       "      <td>NaN</td>\n",
       "    </tr>\n",
       "    <tr>\n",
       "      <th>224</th>\n",
       "      <td>NaN</td>\n",
       "      <td>NaN</td>\n",
       "      <td>72.226731</td>\n",
       "      <td>NaN</td>\n",
       "    </tr>\n",
       "    <tr>\n",
       "      <th>226</th>\n",
       "      <td>NaN</td>\n",
       "      <td>NaN</td>\n",
       "      <td>46.250112</td>\n",
       "      <td>NaN</td>\n",
       "    </tr>\n",
       "    <tr>\n",
       "      <th>233</th>\n",
       "      <td>NaN</td>\n",
       "      <td>NaN</td>\n",
       "      <td>57.031862</td>\n",
       "      <td>NaN</td>\n",
       "    </tr>\n",
       "    <tr>\n",
       "      <th>...</th>\n",
       "      <td>...</td>\n",
       "      <td>...</td>\n",
       "      <td>...</td>\n",
       "      <td>...</td>\n",
       "    </tr>\n",
       "    <tr>\n",
       "      <th>1857</th>\n",
       "      <td>34.455298</td>\n",
       "      <td>NaN</td>\n",
       "      <td>NaN</td>\n",
       "      <td>NaN</td>\n",
       "    </tr>\n",
       "    <tr>\n",
       "      <th>1867</th>\n",
       "      <td>47.685963</td>\n",
       "      <td>NaN</td>\n",
       "      <td>NaN</td>\n",
       "      <td>NaN</td>\n",
       "    </tr>\n",
       "    <tr>\n",
       "      <th>1877</th>\n",
       "      <td>33.329098</td>\n",
       "      <td>NaN</td>\n",
       "      <td>NaN</td>\n",
       "      <td>NaN</td>\n",
       "    </tr>\n",
       "    <tr>\n",
       "      <th>1882</th>\n",
       "      <td>30.485985</td>\n",
       "      <td>NaN</td>\n",
       "      <td>NaN</td>\n",
       "      <td>NaN</td>\n",
       "    </tr>\n",
       "    <tr>\n",
       "      <th>1892</th>\n",
       "      <td>28.430964</td>\n",
       "      <td>NaN</td>\n",
       "      <td>NaN</td>\n",
       "      <td>NaN</td>\n",
       "    </tr>\n",
       "  </tbody>\n",
       "</table>\n",
       "<p>100 rows × 4 columns</p>\n",
       "</div>"
      ],
      "text/plain": [
       "      Capomulin  Ramicane  Infubinol  Ceftamin\n",
       "9     38.982878       NaN        NaN       NaN\n",
       "214         NaN       NaN  36.321346       NaN\n",
       "224         NaN       NaN  72.226731       NaN\n",
       "226         NaN       NaN  46.250112       NaN\n",
       "233         NaN       NaN  57.031862       NaN\n",
       "...         ...       ...        ...       ...\n",
       "1857  34.455298       NaN        NaN       NaN\n",
       "1867  47.685963       NaN        NaN       NaN\n",
       "1877  33.329098       NaN        NaN       NaN\n",
       "1882  30.485985       NaN        NaN       NaN\n",
       "1892  28.430964       NaN        NaN       NaN\n",
       "\n",
       "[100 rows x 4 columns]"
      ]
     },
     "execution_count": 24,
     "metadata": {},
     "output_type": "execute_result"
    }
   ],
   "source": [
    "# Calculate the final tumor volume of each mouse across four of the treatment regimens:  \n",
    "# Capomulin, Ramicane, Infubinol, and Ceftamin\n",
    "# Start by getting the last (greatest) timepoint for each mouse\n",
    "\n",
    "final_tumor_vol = unique_data.drop_duplicates(subset = (\"Mouse ID\"), keep = \"last\")\n",
    "final_tumor_by_drug = final_tumor_vol[[\"Mouse ID\", \"Drug Regimen\", \"Tumor Volume (mm3)\",\"Timepoint\",\"Weight (g)\"]]\n",
    "final_tumor_vol_capomulin = final_tumor_by_drug.loc[final_tumor_by_drug[\"Drug Regimen\"] == \"Capomulin\"]\n",
    "final_tumor_vol_ramicane = final_tumor_by_drug.loc[final_tumor_by_drug[\"Drug Regimen\"] == \"Ramicane\"]\n",
    "final_tumor_vol_infubinol = final_tumor_by_drug.loc[final_tumor_by_drug[\"Drug Regimen\"] == \"Infubinol\"]\n",
    "final_tumor_vol_ceftamin = final_tumor_by_drug.loc[final_tumor_by_drug[\"Drug Regimen\"] == \"Ceftamin\"]\n",
    "\n",
    "# Merge this group df with the original dataframe to get the tumor volume at the last timepoint\n",
    "tumor_drug_merge = pd.DataFrame({\"Capomulin\" : final_tumor_vol_capomulin[\"Tumor Volume (mm3)\"],\"Ramicane\" : \n",
    "                                 final_tumor_vol_ramicane[\"Tumor Volume (mm3)\"],\"Infubinol\" : \n",
    "                                 final_tumor_vol_infubinol[\"Tumor Volume (mm3)\"],\"Ceftamin\" : \n",
    "                                 final_tumor_vol_ceftamin[\"Tumor Volume (mm3)\"]})\n",
    "tumor_drug_merge"
   ]
  },
  {
   "cell_type": "code",
   "execution_count": 25,
   "metadata": {},
   "outputs": [
    {
     "name": "stdout",
     "output_type": "stream",
     "text": [
      "The lower quartile of tumor volume is: 37.685932865\n",
      "The upper quartile of tumor volume is: 45.0\n",
      "The interquartile range of tumor volume is: 7.314067135000002\n",
      "Values below 26.714832162499995 could be outliers.\n",
      "Values above 55.9711007025 could be outliers.\n",
      "The lower quartile of tumor volume is: 36.67463458499999\n",
      "The upper quartile of tumor volume is: 45.0\n",
      "The interquartile range of tumor volume is: 8.325365415000007\n",
      "Values below 24.18658646249998 could be outliers.\n",
      "Values above 57.48804812250001 could be outliers.\n",
      "The lower quartile of tumor volume is: 47.3123533\n",
      "The upper quartile of tumor volume is: 57.314443967500004\n",
      "The interquartile range of tumor volume is: 10.002090667500006\n",
      "Values below 32.309217298749985 could be outliers.\n",
      "Values above 72.31757996875001 could be outliers.\n",
      "The lower quartile of tumor volume is: 47.208427112500004\n",
      "The upper quartile of tumor volume is: 56.801437570000004\n",
      "The interquartile range of tumor volume is: 9.5930104575\n",
      "Values below 32.818911426250004 could be outliers.\n",
      "Values above 71.19095325625 could be outliers.\n"
     ]
    }
   ],
   "source": [
    "# Put treatments into a list for for loop (and later for plot labels)\n",
    "regimens = ['Capomulin','Ramicane','Infubinol','Ceftamin']\n",
    "\n",
    "# Create empty list to fill with tumor vol data (for plotting)\n",
    "tumor_vol_data = []\n",
    "\n",
    "# Calculate the IQR and quantitatively determine if there are any potential outliers. Start for loop here, \n",
    "# looping through treatments list\n",
    "for regimen in regimens:\n",
    "     \n",
    "    # Locate the rows which contain mice on each drug and get the tumor volumes (.loc)\n",
    "    tumor_vol = unique_data.loc[unique_data[\"Drug Regimen\"] == regimen][\"Tumor Volume (mm3)\"]\n",
    "    \n",
    "    # add subset - add to empty list\n",
    "    tumor_vol_data.append(tumor_vol)\n",
    "    \n",
    "    # Determine outliers using upper and lower bounds - calculate using series\n",
    "    quartiles = tumor_vol.quantile([0.25,0.5,0.75])\n",
    "    lowerq = quartiles[0.25]\n",
    "    upperq = quartiles[0.75]\n",
    "    iqr = upperq-lowerq\n",
    "    lower_bound = lowerq - (1.5*iqr)\n",
    "    upper_bound = upperq + (1.5*iqr)\n",
    "    \n",
    "    print(f\"The lower quartile of tumor volume is: {lowerq}\")\n",
    "    print(f\"The upper quartile of tumor volume is: {upperq}\")\n",
    "    print(f\"The interquartile range of tumor volume is: {iqr}\")\n",
    "\n",
    "    print(f\"Values below {lower_bound} could be outliers.\")\n",
    "    print(f\"Values above {upper_bound} could be outliers.\")"
   ]
  },
  {
   "cell_type": "code",
   "execution_count": 21,
   "metadata": {},
   "outputs": [
    {
     "data": {
      "image/png": "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\n",
      "text/plain": [
       "<Figure size 432x288 with 1 Axes>"
      ]
     },
     "metadata": {
      "needs_background": "light"
     },
     "output_type": "display_data"
    }
   ],
   "source": [
    "# Generate a box plot of the final tumor volume of each mouse across four regimens of interest\n",
    "fig, tumor_box_plot = plt.subplots()\n",
    "tumor_box_plot = tumor_drug_merge.boxplot(column = regimens, grid = False)\n",
    "plt.title(\"Final Tumor Volume by Drug\")\n",
    "plt.xlabel(\"Drug\")\n",
    "plt.ylabel(\"Final Tumor Volume (mm3)\")\n",
    "plt.show()"
   ]
  },
  {
   "cell_type": "markdown",
   "metadata": {},
   "source": [
    "## Line and Scatter Plots"
   ]
  },
  {
   "cell_type": "code",
   "execution_count": 70,
   "metadata": {},
   "outputs": [
    {
     "data": {
      "image/png": "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\n",
      "text/plain": [
       "<Figure size 432x288 with 1 Axes>"
      ]
     },
     "metadata": {
      "needs_background": "light"
     },
     "output_type": "display_data"
    }
   ],
   "source": [
    "# Generate a line plot of tumor volume vs. time point for a mouse treated with Capomulin\n",
    "mouse_samp = unique_data.loc[unique_data[\"Mouse ID\"] == \"m957\"]\n",
    "x_axis = mouse_samp[\"Timepoint\"]\n",
    "y_axis = mouse_samp[\"Tumor Volume (mm3)\"]\n",
    "\n",
    "plt.plot(x_axis,y_axis,marker = 'o',color = 'c')\n",
    "plt.title(\"Tumor Volume Over Time for Mouse m957\")\n",
    "plt.xlabel(\"Timepoint\")\n",
    "plt.ylabel(\"Tumor Volume\")\n",
    "\n",
    "plt.show()"
   ]
  },
  {
   "cell_type": "code",
   "execution_count": 67,
   "metadata": {},
   "outputs": [
    {
     "data": {
      "image/png": "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\n",
      "text/plain": [
       "<Figure size 432x288 with 1 Axes>"
      ]
     },
     "metadata": {
      "needs_background": "light"
     },
     "output_type": "display_data"
    }
   ],
   "source": [
    "# Generate a scatter plot of average tumor volume vs. mouse weight for the Capomulin regimen\n",
    "capomulin_avgs = final_tumor_vol_capomulin.groupby(\"Mouse ID\").mean()\n",
    "avg_weight = capomulin_avgs[\"Weight (g)\"]\n",
    "avg_tumor_vol = capomulin_avgs[\"Tumor Volume (mm3)\"]\n",
    "\n",
    "plt.scatter(avg_tumor_vol,avg_weight,marker = 'o',alpha = 0.5)\n",
    "plt.xlabel(\"Average Tumor Volume (mm3)\")\n",
    "plt.ylabel(\"Average Mouse Weight (g)\")\n",
    "plt.title(\"Average Tumor Volume vs Mouse Weight\")\n",
    "plt.show()"
   ]
  },
  {
   "cell_type": "markdown",
   "metadata": {},
   "source": [
    "## Correlation and Regression"
   ]
  },
  {
   "cell_type": "code",
   "execution_count": 39,
   "metadata": {},
   "outputs": [
    {
     "data": {
      "text/plain": [
       "Text(25, 24, 'y =0.44x +4.02')"
      ]
     },
     "execution_count": 39,
     "metadata": {},
     "output_type": "execute_result"
    },
    {
     "data": {
      "image/png": "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\n",
      "text/plain": [
       "<Figure size 432x288 with 1 Axes>"
      ]
     },
     "metadata": {
      "needs_background": "light"
     },
     "output_type": "display_data"
    }
   ],
   "source": [
    "# Calculate the correlation coefficient and linear regression model \n",
    "# for mouse weight and average tumor volume for the Capomulin regimen\n",
    "from scipy.stats import linregress\n",
    "x_values = avg_tumor_vol\n",
    "y_values = avg_weight\n",
    "(slope, intercept, rvalue, pvalue, stderr) = linregress(x_values,y_values)\n",
    "regress_value = x_values * slope + intercept\n",
    "line_eq = \"y =\" + str(round(slope,2)) + \"x +\" + str(round(intercept,2))\n",
    "plt.scatter(x_values,y_values)\n",
    "plt.plot(x_values, regress_value, \"r-\")\n",
    "plt.annotate(line_eq,(25,24))"
    "plt.xlabel('Average Tumor Volume (mm3)')"
    "plt.ylabel('Average Mouse Weight (g)')"
    "plt.title('Average Tumor Volume vs Mouse Weight')"
    "plt.show()"
   ]
  },
  {
   "cell_type": "code",
   "execution_count": null,
   "metadata": {},
   "outputs": [],
   "source": []
  }
 ],
 "metadata": {
  "anaconda-cloud": {},
  "kernelspec": {
   "display_name": "Python 3",
   "language": "python",
   "name": "python3"
  },
  "language_info": {
   "codemirror_mode": {
    "name": "ipython",
    "version": 3
   },
   "file_extension": ".py",
   "mimetype": "text/x-python",
   "name": "python",
   "nbconvert_exporter": "python",
   "pygments_lexer": "ipython3",
   "version": "3.8.5"
  }
 },
 "nbformat": 4,
 "nbformat_minor": 4
}
